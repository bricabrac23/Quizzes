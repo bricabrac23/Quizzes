{
 "cells": [
  {
   "cell_type": "code",
   "execution_count": 28,
   "id": "1c588956",
   "metadata": {},
   "outputs": [
    {
     "name": "stdout",
     "output_type": "stream",
     "text": [
      "Quiz answer 1: 2\n",
      "--------------\n",
      "Quiz answer 2: 1\n",
      "--------------\n",
      "Quiz answer 5:  \n",
      "--------------\n",
      "Quiz answer 7: <class 'int'>\n"
     ]
    }
   ],
   "source": [
    "#Quiz question 1:\n",
    "x = bool(True) + bool(True) - bool(False)\n",
    "\n",
    "print(\"Quiz answer 1:\" + \" \" + str(x))\n",
    "print(\"--------------\")\n",
    "\n",
    "#Quiz question 2:\n",
    "y = True\n",
    "y = y & y\n",
    "y = y | (y - y)\n",
    "print(\"Quiz answer 2:\" + \" \" + str(y))\n",
    "print(\"--------------\")\n",
    "\n",
    "#Quiz question 5:\n",
    "string = \"E. Coli\"\n",
    "z = string[2]\n",
    "print(\"Quiz answer 5:\" + \" \" + str(z))\n",
    "print(\"--------------\")\n",
    "\n",
    "#Quiz question 7:\n",
    "#Variable named \"Medication\", assigned the given value of 5 (integer):\n",
    "Medication = 5\n",
    "#setting variable w to the type of variable \"Medication\" is:\n",
    "w = type(Medication)\n",
    "#printing out the type of variable \"Medication\" is by printing w:\n",
    "print(\"Quiz answer 7:\" + \" \" + str(w))\n",
    "\n"
   ]
  }
 ],
 "metadata": {
  "kernelspec": {
   "display_name": "Python 3 (ipykernel)",
   "language": "python",
   "name": "python3"
  },
  "language_info": {
   "codemirror_mode": {
    "name": "ipython",
    "version": 3
   },
   "file_extension": ".py",
   "mimetype": "text/x-python",
   "name": "python",
   "nbconvert_exporter": "python",
   "pygments_lexer": "ipython3",
   "version": "3.9.12"
  }
 },
 "nbformat": 4,
 "nbformat_minor": 5
}
