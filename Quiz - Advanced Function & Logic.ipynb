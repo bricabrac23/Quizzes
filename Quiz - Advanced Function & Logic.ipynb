{
 "cells": [
  {
   "cell_type": "code",
   "execution_count": 7,
   "id": "1c588956",
   "metadata": {},
   "outputs": [
    {
     "data": {
      "text/plain": [
       "6"
      ]
     },
     "execution_count": 7,
     "metadata": {},
     "output_type": "execute_result"
    }
   ],
   "source": [
    "#Quiz Question 1\n",
    "#Given the following code (assuming it was properly formatted), which functions would you have access to in the console?\n",
    "\n",
    "def fun1(n):\n",
    "   n = n +1\n",
    "   def fun2(n):\n",
    "      n = n+ 3\n",
    "   return n \n",
    "\n",
    "fun1(5)\n",
    "\n",
    "#Quiz Question 3\n",
    "def print(x):\n",
    "   return x + 1\n",
    "\n",
    "print(5)"
   ]
  }
 ],
 "metadata": {
  "kernelspec": {
   "display_name": "Python 3.10.6 64-bit",
   "language": "python",
   "name": "python3"
  },
  "language_info": {
   "codemirror_mode": {
    "name": "ipython",
    "version": 3
   },
   "file_extension": ".py",
   "mimetype": "text/x-python",
   "name": "python",
   "nbconvert_exporter": "python",
   "pygments_lexer": "ipython3",
   "version": "3.10.6"
  },
  "vscode": {
   "interpreter": {
    "hash": "aee8b7b246df8f9039afb4144a1f6fd8d2ca17a180786b69acc140d282b71a49"
   }
  }
 },
 "nbformat": 4,
 "nbformat_minor": 5
}
